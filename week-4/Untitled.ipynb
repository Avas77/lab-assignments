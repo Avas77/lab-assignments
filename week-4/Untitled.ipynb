{
 "cells": [
  {
   "cell_type": "code",
   "execution_count": 1,
   "id": "db0edadb-6f32-41c8-8a71-263f62722720",
   "metadata": {},
   "outputs": [],
   "source": [
    "import numpy as np\n",
    "import pandas as pd\n",
    "from sklearn.feature_extraction.text import TfidfVectorizer, CountVectorizer\n",
    "from sklearn.decomposition import TruncatedSVD, NMF\n",
    "from sklearn.cluster import KMeans\n",
    "from sklearn.decomposition import LatentDirichletAllocation\n",
    "import nltk\n",
    "from nltk.corpus import stopwords\n",
    "\n",
    "import matplotlib.pyplot as plt\n",
    "stop_words = stopwords.words('english')\n",
    "\n",
    "import warnings\n",
    "\n",
    "# Suppress the specific deprecation warning\n",
    "warnings.filterwarnings(\"ignore\", category=DeprecationWarning)"
   ]
  },
  {
   "cell_type": "code",
   "execution_count": 2,
   "id": "135e3df9-933e-482d-8f5d-a1382770cd8d",
   "metadata": {},
   "outputs": [],
   "source": [
    "from sklearn.datasets import fetch_20newsgroups"
   ]
  },
  {
   "cell_type": "code",
   "execution_count": 3,
   "id": "356884e4-9293-4cb8-a76e-7562dd7245e3",
   "metadata": {},
   "outputs": [
    {
     "name": "stdout",
     "output_type": "stream",
     "text": [
      "Sample document:\n",
      " \n",
      "    Yes.  There are many methods of rendering, raytracing is one of them.\n",
      "You didn't say what you mean by rendering, so I won't guess.  Methods of\n",
      "rendering include:\n",
      "\n",
      "        o  Pencil and graph paper, doing the math by hand\n",
      "\n",
      "        o  Wireframe rendering of the 2D projection\n",
      "\n",
      "        o  Hidden line rendering\n",
      "\n",
      "        o  Scanline rendering using:\n",
      "            - Painter's algorithm.\n",
      "            - BSP trees.\n",
      "            - Z buffer\n",
      "            - Other\n",
      "\n",
      "        o  Raytracing\n",
      "\n",
      "        o  Radiosity\n",
      "\n",
      "        o  Holographic projection to film\n",
      "\n",
      "        o  Combination of any of the above\n"
     ]
    }
   ],
   "source": [
    "# Fetch the dataset\n",
    "newsgroups = fetch_20newsgroups(subset='all', categories=['rec.sport.hockey', 'sci.space', 'comp.graphics'], remove=('headers', 'footers', 'quotes'))\n",
    "documents = newsgroups.data\n",
    "\n",
    "# Display a sample\n",
    "print(\"Sample document:\\n\", documents[0])"
   ]
  },
  {
   "cell_type": "code",
   "execution_count": 4,
   "id": "9db61a0f-c475-4e9d-a837-cfe7714f6214",
   "metadata": {},
   "outputs": [
    {
     "name": "stdout",
     "output_type": "stream",
     "text": [
      "Sample preprocessed document:\n",
      " many methods raytracing one say mean methods rendering pencil graph math hand wireframe rendering projection hidden line rendering scanline rendering bsp z buffer raytracing radiosity holographic projection film combination\n"
     ]
    }
   ],
   "source": [
    "def preprocess(documents):\n",
    "    processed_docs = []\n",
    "    for doc in documents:\n",
    "        tokens = doc.lower().split()\n",
    "        filtered_tokens = [token for token in tokens if token not in stop_words and token.isalpha()]\n",
    "        processed_docs.append(\" \".join(filtered_tokens))\n",
    "    return processed_docs\n",
    "\n",
    "processed_docs = preprocess(documents)\n",
    "print(\"Sample preprocessed document:\\n\", processed_docs[0])"
   ]
  },
  {
   "cell_type": "code",
   "execution_count": 5,
   "id": "c24fffe8-0ff0-4687-ae05-2fef078c6942",
   "metadata": {},
   "outputs": [
    {
     "name": "stdout",
     "output_type": "stream",
     "text": [
      "TF-IDF Matrix shape: (2959, 1000)\n"
     ]
    }
   ],
   "source": [
    "tfidf_vectorizer = TfidfVectorizer(max_features=1000)  # Limiting to 1000 features for simplicity\n",
    "tfidf_matrix = tfidf_vectorizer.fit_transform(processed_docs)\n",
    "\n",
    "print(\"TF-IDF Matrix shape:\", tfidf_matrix.shape)"
   ]
  },
  {
   "cell_type": "code",
   "execution_count": 6,
   "id": "218ec0fc-1195-4e88-b7c2-9b0677c1de98",
   "metadata": {},
   "outputs": [
    {
     "name": "stdout",
     "output_type": "stream",
     "text": [
      "Sample Cluster Assignments: [0, 2, 2, 0, 0, 1, 0, 1, 1, 0]\n"
     ]
    }
   ],
   "source": [
    "num_clusters = 3\n",
    "km_model = KMeans(n_clusters=num_clusters, random_state=42)\n",
    "km_model.fit(tfidf_matrix)\n",
    "\n",
    "clusters = km_model.labels_.tolist()\n",
    "print(\"Sample Cluster Assignments:\", clusters[:10])"
   ]
  },
  {
   "cell_type": "code",
   "execution_count": 7,
   "id": "989ae7b5-5361-4329-bfcd-7ba60af98b99",
   "metadata": {
    "scrolled": true
   },
   "outputs": [
    {
     "name": "stdout",
     "output_type": "stream",
     "text": [
      "\n",
      "Cluster 0 (Topic 1):\n",
      "Number of documents in this cluster: 1577\n",
      "Displaying 4 sample documents:\n",
      "\n",
      "Sample document 1:\n",
      "many methods raytracing one say mean methods rendering pencil graph math hand wireframe rendering pr...\n",
      "\n",
      "Sample document 2:\n",
      "good reason many companies use bits pixel use double buffering animating write one entire screen upd...\n",
      "\n",
      "Sample document 3:\n",
      "working system uses given set key frame positions control imaginary camera using splines described s...\n",
      "\n",
      "Sample document 4:\n",
      "...\n",
      "\n",
      "\n",
      "Cluster 2 (Topic 3):\n",
      "Number of documents in this cluster: 754\n",
      "Displaying 4 sample documents:\n",
      "\n",
      "Sample document 1:\n",
      "borrowed version book wealth pages information electronic artists organizations around globe email m...\n",
      "\n",
      "Sample document 2:\n",
      "posted may distribute program freely use fee author responsible damage caused important changes sinc...\n",
      "\n",
      "Sample document 3:\n",
      "looking source orbital element sets believe one please let know possible sources reach thanks...\n",
      "\n",
      "Sample document 4:\n",
      "hi recently found xv subdirectory use frequently xv sun spark station never start computer display h...\n",
      "\n",
      "\n",
      "Cluster 1 (Topic 2):\n",
      "Number of documents in this cluster: 628\n",
      "Displaying 4 sample documents:\n",
      "\n",
      "Sample document 1:\n",
      "mario makes pat walker sounds like type would bring game take pot shots...\n",
      "\n",
      "Sample document 2:\n",
      "charles hubbert chevy let soft goals recent history inconsistant play comes big score think goal men...\n",
      "\n",
      "Sample document 3:\n",
      "team uses players season merely divide total player plays game considered equally valuable player pl...\n",
      "\n",
      "Sample document 4:\n",
      "w w providence bruins lost first two games home came back w tie series may hope bruins know much wan...\n",
      "\n"
     ]
    }
   ],
   "source": [
    "from collections import defaultdict\n",
    "\n",
    "# Group documents by their assigned cluster\n",
    "clustered_docs = defaultdict(list)\n",
    "for idx, cluster in enumerate(clusters):\n",
    "    clustered_docs[cluster].append(processed_docs[idx])\n",
    "\n",
    "# Display four sample documents for each cluster\n",
    "num_samples = 4  # Number of documents to display per cluster\n",
    "for cluster_id, docs in clustered_docs.items():\n",
    "    print(f\"\\nCluster {cluster_id} (Topic {cluster_id + 1}):\")\n",
    "    print(f\"Number of documents in this cluster: {len(docs)}\")\n",
    "    print(f\"Displaying {min(num_samples, len(docs))} sample documents:\\n\")\n",
    "\n",
    "    for i in range(min(num_samples, len(docs))):\n",
    "        print(f\"Sample document {i + 1}:\\n{''.join(docs[i][:100])}...\\n\")  # Displaying the first 100 words"
   ]
  },
  {
   "cell_type": "code",
   "execution_count": 18,
   "id": "1fcde204-d71b-45bd-bb79-4997885150a1",
   "metadata": {},
   "outputs": [
    {
     "data": {
      "text/plain": [
       "(2959, 3)"
      ]
     },
     "execution_count": 18,
     "metadata": {},
     "output_type": "execute_result"
    }
   ],
   "source": [
    "lsa_model = TruncatedSVD(n_components=3, random_state=42)\n",
    "lsa_topic_matrix = lsa_model.fit_transform(tfidf_matrix)\n",
    "lsa_topic_matrix.shape"
   ]
  },
  {
   "cell_type": "code",
   "execution_count": 34,
   "id": "8c36d3d4-c66e-4ab8-8258-f66b23028572",
   "metadata": {},
   "outputs": [
    {
     "name": "stdout",
     "output_type": "stream",
     "text": [
      "[1189 1935 1670  870] space [0.0578136  0.13448193 0.29303069 ... 0.13180603 0.26704499 0.06709812]\n",
      "[ 870 1670  310 1480] space [0.00207832 0.10956224 0.2794804  ... 0.05678892 0.14614462 0.05643416]\n",
      "[2816 1868 1714 1826] space [-0.00366969 -0.01670209 -0.09512956 ... -0.07766955  0.09103031\n",
      " -0.02987059]\n"
     ]
    }
   ],
   "source": [
    "num_samples = 4\n",
    "\n",
    "for topic_idx in range(lsa_model.n_components):\n",
    "    topic_column = lsa_topic_matrix[:, topic_idx]\n",
    "    top_doc_indices = np.argsort(topic_column)[::-1][:num_samples]\n",
    "    print(top_doc_indices, \"space\", topic_column)    "
   ]
  },
  {
   "cell_type": "code",
   "execution_count": null,
   "id": "a6b04493-5215-49bb-a7f9-5af264e1c285",
   "metadata": {},
   "outputs": [],
   "source": []
  }
 ],
 "metadata": {
  "kernelspec": {
   "display_name": "Python 3 (ipykernel)",
   "language": "python",
   "name": "python3"
  },
  "language_info": {
   "codemirror_mode": {
    "name": "ipython",
    "version": 3
   },
   "file_extension": ".py",
   "mimetype": "text/x-python",
   "name": "python",
   "nbconvert_exporter": "python",
   "pygments_lexer": "ipython3",
   "version": "3.12.4"
  }
 },
 "nbformat": 4,
 "nbformat_minor": 5
}
