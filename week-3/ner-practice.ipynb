{
 "cells": [
  {
   "cell_type": "code",
   "execution_count": 8,
   "id": "d8a4ac52-bf64-48bc-8c14-57168d6f6e73",
   "metadata": {},
   "outputs": [
    {
     "data": {
      "text/html": [
       "<div>\n",
       "<style scoped>\n",
       "    .dataframe tbody tr th:only-of-type {\n",
       "        vertical-align: middle;\n",
       "    }\n",
       "\n",
       "    .dataframe tbody tr th {\n",
       "        vertical-align: top;\n",
       "    }\n",
       "\n",
       "    .dataframe thead th {\n",
       "        text-align: right;\n",
       "    }\n",
       "</style>\n",
       "<table border=\"1\" class=\"dataframe\">\n",
       "  <thead>\n",
       "    <tr style=\"text-align: right;\">\n",
       "      <th></th>\n",
       "      <th>Sentence #</th>\n",
       "      <th>Sentence</th>\n",
       "    </tr>\n",
       "  </thead>\n",
       "  <tbody>\n",
       "    <tr>\n",
       "      <th>0</th>\n",
       "      <td>Sentence: 1</td>\n",
       "      <td>Thousands of demonstrators have marched throug...</td>\n",
       "    </tr>\n",
       "    <tr>\n",
       "      <th>1</th>\n",
       "      <td>Sentence: 2</td>\n",
       "      <td>Families of soldiers killed in the conflict jo...</td>\n",
       "    </tr>\n",
       "    <tr>\n",
       "      <th>2</th>\n",
       "      <td>Sentence: 3</td>\n",
       "      <td>They marched from the Houses of Parliament to ...</td>\n",
       "    </tr>\n",
       "    <tr>\n",
       "      <th>3</th>\n",
       "      <td>Sentence: 4</td>\n",
       "      <td>Police put the number of marchers at 10,000 wh...</td>\n",
       "    </tr>\n",
       "    <tr>\n",
       "      <th>4</th>\n",
       "      <td>Sentence: 5</td>\n",
       "      <td>The protest comes on the eve of the annual con...</td>\n",
       "    </tr>\n",
       "    <tr>\n",
       "      <th>...</th>\n",
       "      <td>...</td>\n",
       "      <td>...</td>\n",
       "    </tr>\n",
       "    <tr>\n",
       "      <th>95</th>\n",
       "      <td>Sentence: 96</td>\n",
       "      <td>In Rome , a Vatican spokesman deplored the att...</td>\n",
       "    </tr>\n",
       "    <tr>\n",
       "      <th>96</th>\n",
       "      <td>Sentence: 97</td>\n",
       "      <td>Authorities in Mogadishu have not determined a...</td>\n",
       "    </tr>\n",
       "    <tr>\n",
       "      <th>97</th>\n",
       "      <td>Sentence: 98</td>\n",
       "      <td>The pope has said he meant no offense to Musli...</td>\n",
       "    </tr>\n",
       "    <tr>\n",
       "      <th>98</th>\n",
       "      <td>Sentence: 99</td>\n",
       "      <td>Pakistani forces have targeted militants in th...</td>\n",
       "    </tr>\n",
       "    <tr>\n",
       "      <th>99</th>\n",
       "      <td>Sentence: 100</td>\n",
       "      <td>Helicopter gunships Saturday pounded militant ...</td>\n",
       "    </tr>\n",
       "  </tbody>\n",
       "</table>\n",
       "<p>100 rows × 2 columns</p>\n",
       "</div>"
      ],
      "text/plain": [
       "       Sentence #                                           Sentence\n",
       "0     Sentence: 1  Thousands of demonstrators have marched throug...\n",
       "1     Sentence: 2  Families of soldiers killed in the conflict jo...\n",
       "2     Sentence: 3  They marched from the Houses of Parliament to ...\n",
       "3     Sentence: 4  Police put the number of marchers at 10,000 wh...\n",
       "4     Sentence: 5  The protest comes on the eve of the annual con...\n",
       "..            ...                                                ...\n",
       "95   Sentence: 96  In Rome , a Vatican spokesman deplored the att...\n",
       "96   Sentence: 97  Authorities in Mogadishu have not determined a...\n",
       "97   Sentence: 98  The pope has said he meant no offense to Musli...\n",
       "98   Sentence: 99  Pakistani forces have targeted militants in th...\n",
       "99  Sentence: 100  Helicopter gunships Saturday pounded militant ...\n",
       "\n",
       "[100 rows x 2 columns]"
      ]
     },
     "execution_count": 8,
     "metadata": {},
     "output_type": "execute_result"
    }
   ],
   "source": [
    "import pandas as pd\n",
    "\n",
    "ner = pd.read_csv(\"NER.csv\")\n",
    "ner_short = ner.head(100)\n",
    "ner_short"
   ]
  },
  {
   "cell_type": "code",
   "execution_count": 10,
   "id": "fbf57577-cdcb-49f7-843b-3bd19538775a",
   "metadata": {},
   "outputs": [],
   "source": [
    "import nltk\n",
    "\n",
    "def pos_tagger(sentence):\n",
    "    tokens = nltk.word_tokenize(sentence)\n",
    "    tags = nltk.pos_tag(tokens)\n",
    "    return tags"
   ]
  },
  {
   "cell_type": "code",
   "execution_count": 16,
   "id": "d51044db-ce91-444d-9113-b9157673c505",
   "metadata": {},
   "outputs": [
    {
     "name": "stderr",
     "output_type": "stream",
     "text": [
      "C:\\Users\\BAJRACHARYAA\\AppData\\Local\\Temp\\ipykernel_16332\\2551763429.py:1: SettingWithCopyWarning: \n",
      "A value is trying to be set on a copy of a slice from a DataFrame.\n",
      "Try using .loc[row_indexer,col_indexer] = value instead\n",
      "\n",
      "See the caveats in the documentation: https://pandas.pydata.org/pandas-docs/stable/user_guide/indexing.html#returning-a-view-versus-a-copy\n",
      "  ner_short[\"pos\"] = ner_short[\"Sentence\"].apply(pos_tagger)\n"
     ]
    },
    {
     "data": {
      "text/plain": [
       "0     [(Thousands, NNS), (of, IN), (demonstrators, N...\n",
       "1     [(Families, NNS), (of, IN), (soldiers, NNS), (...\n",
       "2     [(They, PRP), (marched, VBD), (from, IN), (the...\n",
       "3     [(Police, NNP), (put, VBD), (the, DT), (number...\n",
       "4     [(The, DT), (protest, NN), (comes, VBZ), (on, ...\n",
       "                            ...                        \n",
       "95    [(In, IN), (Rome, NNP), (,, ,), (a, DT), (Vati...\n",
       "96    [(Authorities, NNS), (in, IN), (Mogadishu, NNP...\n",
       "97    [(The, DT), (pope, NN), (has, VBZ), (said, VBD...\n",
       "98    [(Pakistani, NN), (forces, NNS), (have, VBP), ...\n",
       "99    [(Helicopter, NNP), (gunships, NNS), (Saturday...\n",
       "Name: pos, Length: 100, dtype: object"
      ]
     },
     "execution_count": 16,
     "metadata": {},
     "output_type": "execute_result"
    }
   ],
   "source": [
    "ner_short[\"pos\"] = ner_short[\"Sentence\"].apply(pos_tagger)\n",
    "ner_short[\"pos\"]"
   ]
  },
  {
   "cell_type": "code",
   "execution_count": 49,
   "id": "b04082be-2d4d-49a1-9bc6-621335578cfd",
   "metadata": {},
   "outputs": [],
   "source": [
    "grammar = r\"NP: {<DT>?<JJ.*>*<NN.*>+}\"\n",
    "\n",
    "def np_chunker(sentence):\n",
    "    tags = pos_tagger(sentence)\n",
    "    cp = nltk.RegexpParser(grammar)\n",
    "    chunks = cp.parse(tags)\n",
    "    return chunks"
   ]
  },
  {
   "cell_type": "code",
   "execution_count": 51,
   "id": "0558edbc-9f1a-45cb-81a5-e728b13d1bd8",
   "metadata": {},
   "outputs": [
    {
     "name": "stdout",
     "output_type": "stream",
     "text": [
      "Requirement already satisfied: svgling in c:\\users\\bajracharyaa\\appdata\\local\\anaconda3\\lib\\site-packages (0.5.0)\n",
      "Requirement already satisfied: svgwrite in c:\\users\\bajracharyaa\\appdata\\local\\anaconda3\\lib\\site-packages (from svgling) (1.4.3)\n"
     ]
    }
   ],
   "source": [
    "!pip install svgling"
   ]
  },
  {
   "cell_type": "code",
   "execution_count": 52,
   "id": "823bcdd9-9f17-4167-9674-39725a2e53fc",
   "metadata": {},
   "outputs": [
    {
     "name": "stderr",
     "output_type": "stream",
     "text": [
      "C:\\Users\\BAJRACHARYAA\\AppData\\Local\\Temp\\ipykernel_16332\\524111218.py:1: SettingWithCopyWarning: \n",
      "A value is trying to be set on a copy of a slice from a DataFrame.\n",
      "Try using .loc[row_indexer,col_indexer] = value instead\n",
      "\n",
      "See the caveats in the documentation: https://pandas.pydata.org/pandas-docs/stable/user_guide/indexing.html#returning-a-view-versus-a-copy\n",
      "  ner_short[\"chunks\"] = ner_short[\"Sentence\"].apply(np_chunker)\n"
     ]
    },
    {
     "data": {
      "text/html": [
       "<div>\n",
       "<style scoped>\n",
       "    .dataframe tbody tr th:only-of-type {\n",
       "        vertical-align: middle;\n",
       "    }\n",
       "\n",
       "    .dataframe tbody tr th {\n",
       "        vertical-align: top;\n",
       "    }\n",
       "\n",
       "    .dataframe thead th {\n",
       "        text-align: right;\n",
       "    }\n",
       "</style>\n",
       "<table border=\"1\" class=\"dataframe\">\n",
       "  <thead>\n",
       "    <tr style=\"text-align: right;\">\n",
       "      <th></th>\n",
       "      <th>Sentence #</th>\n",
       "      <th>Sentence</th>\n",
       "      <th>pos</th>\n",
       "      <th>chunks</th>\n",
       "    </tr>\n",
       "  </thead>\n",
       "  <tbody>\n",
       "    <tr>\n",
       "      <th>0</th>\n",
       "      <td>Sentence: 1</td>\n",
       "      <td>Thousands of demonstrators have marched throug...</td>\n",
       "      <td>[(Thousands, NNS), (of, IN), (demonstrators, N...</td>\n",
       "      <td>[[(Thousands, NNS)], (of, IN), [(demonstrators...</td>\n",
       "    </tr>\n",
       "    <tr>\n",
       "      <th>1</th>\n",
       "      <td>Sentence: 2</td>\n",
       "      <td>Families of soldiers killed in the conflict jo...</td>\n",
       "      <td>[(Families, NNS), (of, IN), (soldiers, NNS), (...</td>\n",
       "      <td>[[(Families, NNS)], (of, IN), [(soldiers, NNS)...</td>\n",
       "    </tr>\n",
       "    <tr>\n",
       "      <th>2</th>\n",
       "      <td>Sentence: 3</td>\n",
       "      <td>They marched from the Houses of Parliament to ...</td>\n",
       "      <td>[(They, PRP), (marched, VBD), (from, IN), (the...</td>\n",
       "      <td>[(They, PRP), (marched, VBD), (from, IN), [(th...</td>\n",
       "    </tr>\n",
       "    <tr>\n",
       "      <th>3</th>\n",
       "      <td>Sentence: 4</td>\n",
       "      <td>Police put the number of marchers at 10,000 wh...</td>\n",
       "      <td>[(Police, NNP), (put, VBD), (the, DT), (number...</td>\n",
       "      <td>[[(Police, NNP)], (put, VBD), [(the, DT), (num...</td>\n",
       "    </tr>\n",
       "    <tr>\n",
       "      <th>4</th>\n",
       "      <td>Sentence: 5</td>\n",
       "      <td>The protest comes on the eve of the annual con...</td>\n",
       "      <td>[(The, DT), (protest, NN), (comes, VBZ), (on, ...</td>\n",
       "      <td>[[(The, DT), (protest, NN)], (comes, VBZ), (on...</td>\n",
       "    </tr>\n",
       "    <tr>\n",
       "      <th>...</th>\n",
       "      <td>...</td>\n",
       "      <td>...</td>\n",
       "      <td>...</td>\n",
       "      <td>...</td>\n",
       "    </tr>\n",
       "    <tr>\n",
       "      <th>95</th>\n",
       "      <td>Sentence: 96</td>\n",
       "      <td>In Rome , a Vatican spokesman deplored the att...</td>\n",
       "      <td>[(In, IN), (Rome, NNP), (,, ,), (a, DT), (Vati...</td>\n",
       "      <td>[(In, IN), [(Rome, NNP)], (,, ,), [(a, DT), (V...</td>\n",
       "    </tr>\n",
       "    <tr>\n",
       "      <th>96</th>\n",
       "      <td>Sentence: 97</td>\n",
       "      <td>Authorities in Mogadishu have not determined a...</td>\n",
       "      <td>[(Authorities, NNS), (in, IN), (Mogadishu, NNP...</td>\n",
       "      <td>[[(Authorities, NNS)], (in, IN), [(Mogadishu, ...</td>\n",
       "    </tr>\n",
       "    <tr>\n",
       "      <th>97</th>\n",
       "      <td>Sentence: 98</td>\n",
       "      <td>The pope has said he meant no offense to Musli...</td>\n",
       "      <td>[(The, DT), (pope, NN), (has, VBZ), (said, VBD...</td>\n",
       "      <td>[[(The, DT), (pope, NN)], (has, VBZ), (said, V...</td>\n",
       "    </tr>\n",
       "    <tr>\n",
       "      <th>98</th>\n",
       "      <td>Sentence: 99</td>\n",
       "      <td>Pakistani forces have targeted militants in th...</td>\n",
       "      <td>[(Pakistani, NN), (forces, NNS), (have, VBP), ...</td>\n",
       "      <td>[[(Pakistani, NN), (forces, NNS)], (have, VBP)...</td>\n",
       "    </tr>\n",
       "    <tr>\n",
       "      <th>99</th>\n",
       "      <td>Sentence: 100</td>\n",
       "      <td>Helicopter gunships Saturday pounded militant ...</td>\n",
       "      <td>[(Helicopter, NNP), (gunships, NNS), (Saturday...</td>\n",
       "      <td>[[(Helicopter, NNP), (gunships, NNS), (Saturda...</td>\n",
       "    </tr>\n",
       "  </tbody>\n",
       "</table>\n",
       "<p>100 rows × 4 columns</p>\n",
       "</div>"
      ],
      "text/plain": [
       "       Sentence #                                           Sentence  \\\n",
       "0     Sentence: 1  Thousands of demonstrators have marched throug...   \n",
       "1     Sentence: 2  Families of soldiers killed in the conflict jo...   \n",
       "2     Sentence: 3  They marched from the Houses of Parliament to ...   \n",
       "3     Sentence: 4  Police put the number of marchers at 10,000 wh...   \n",
       "4     Sentence: 5  The protest comes on the eve of the annual con...   \n",
       "..            ...                                                ...   \n",
       "95   Sentence: 96  In Rome , a Vatican spokesman deplored the att...   \n",
       "96   Sentence: 97  Authorities in Mogadishu have not determined a...   \n",
       "97   Sentence: 98  The pope has said he meant no offense to Musli...   \n",
       "98   Sentence: 99  Pakistani forces have targeted militants in th...   \n",
       "99  Sentence: 100  Helicopter gunships Saturday pounded militant ...   \n",
       "\n",
       "                                                  pos  \\\n",
       "0   [(Thousands, NNS), (of, IN), (demonstrators, N...   \n",
       "1   [(Families, NNS), (of, IN), (soldiers, NNS), (...   \n",
       "2   [(They, PRP), (marched, VBD), (from, IN), (the...   \n",
       "3   [(Police, NNP), (put, VBD), (the, DT), (number...   \n",
       "4   [(The, DT), (protest, NN), (comes, VBZ), (on, ...   \n",
       "..                                                ...   \n",
       "95  [(In, IN), (Rome, NNP), (,, ,), (a, DT), (Vati...   \n",
       "96  [(Authorities, NNS), (in, IN), (Mogadishu, NNP...   \n",
       "97  [(The, DT), (pope, NN), (has, VBZ), (said, VBD...   \n",
       "98  [(Pakistani, NN), (forces, NNS), (have, VBP), ...   \n",
       "99  [(Helicopter, NNP), (gunships, NNS), (Saturday...   \n",
       "\n",
       "                                               chunks  \n",
       "0   [[(Thousands, NNS)], (of, IN), [(demonstrators...  \n",
       "1   [[(Families, NNS)], (of, IN), [(soldiers, NNS)...  \n",
       "2   [(They, PRP), (marched, VBD), (from, IN), [(th...  \n",
       "3   [[(Police, NNP)], (put, VBD), [(the, DT), (num...  \n",
       "4   [[(The, DT), (protest, NN)], (comes, VBZ), (on...  \n",
       "..                                                ...  \n",
       "95  [(In, IN), [(Rome, NNP)], (,, ,), [(a, DT), (V...  \n",
       "96  [[(Authorities, NNS)], (in, IN), [(Mogadishu, ...  \n",
       "97  [[(The, DT), (pope, NN)], (has, VBZ), (said, V...  \n",
       "98  [[(Pakistani, NN), (forces, NNS)], (have, VBP)...  \n",
       "99  [[(Helicopter, NNP), (gunships, NNS), (Saturda...  \n",
       "\n",
       "[100 rows x 4 columns]"
      ]
     },
     "execution_count": 52,
     "metadata": {},
     "output_type": "execute_result"
    }
   ],
   "source": [
    "ner_short[\"chunks\"] = ner_short[\"Sentence\"].apply(np_chunker)\n",
    "ner_short"
   ]
  },
  {
   "cell_type": "code",
   "execution_count": 75,
   "id": "42ac8f8e-9681-4634-b250-5f3fb62dcc81",
   "metadata": {},
   "outputs": [],
   "source": [
    "def extract_entities(sentence):\n",
    "    chunks = pos_tagger(sentence)\n",
    "    entity = nltk.ne_chunk(chunks)\n",
    "    return chunks"
   ]
  },
  {
   "cell_type": "code",
   "execution_count": 87,
   "id": "b395c697-7059-4a0d-9045-e9b66f5ee60d",
   "metadata": {},
   "outputs": [
    {
     "ename": "AttributeError",
     "evalue": "'tuple' object has no attribute 'leaves'",
     "output_type": "error",
     "traceback": [
      "\u001b[1;31m---------------------------------------------------------------------------\u001b[0m",
      "\u001b[1;31mAttributeError\u001b[0m                            Traceback (most recent call last)",
      "Cell \u001b[1;32mIn[87], line 3\u001b[0m\n\u001b[0;32m      1\u001b[0m ner_chunks \u001b[38;5;241m=\u001b[39m extract_entities(\u001b[38;5;124m\"\u001b[39m\u001b[38;5;124mThis is a test\u001b[39m\u001b[38;5;124m\"\u001b[39m)\n\u001b[0;32m      2\u001b[0m \u001b[38;5;28;01mfor\u001b[39;00m subtree \u001b[38;5;129;01min\u001b[39;00m ner_chunks:\n\u001b[1;32m----> 3\u001b[0m     \u001b[38;5;28mprint\u001b[39m(subtree\u001b[38;5;241m.\u001b[39mleaves())\n",
      "\u001b[1;31mAttributeError\u001b[0m: 'tuple' object has no attribute 'leaves'"
     ]
    }
   ],
   "source": [
    "ner_chunks = extract_entities(\"This is a test\")\n",
    "for subtree in ner_chunks:\n",
    "    print(subtree.leaves())"
   ]
  },
  {
   "cell_type": "code",
   "execution_count": null,
   "id": "2cd57f26-47ba-4336-b8b3-3e6e3232085c",
   "metadata": {},
   "outputs": [],
   "source": []
  }
 ],
 "metadata": {
  "kernelspec": {
   "display_name": "Python 3 (ipykernel)",
   "language": "python",
   "name": "python3"
  },
  "language_info": {
   "codemirror_mode": {
    "name": "ipython",
    "version": 3
   },
   "file_extension": ".py",
   "mimetype": "text/x-python",
   "name": "python",
   "nbconvert_exporter": "python",
   "pygments_lexer": "ipython3",
   "version": "3.12.4"
  }
 },
 "nbformat": 4,
 "nbformat_minor": 5
}
